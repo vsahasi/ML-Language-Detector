{
 "cells": [
  {
   "cell_type": "code",
   "execution_count": 1,
   "id": "6afba001",
   "metadata": {},
   "outputs": [],
   "source": [
    "import torch\n",
    "import torch.nn as nn\n",
    "import torch.optim as optim\n",
    "from torch.utils.data import Dataset, DataLoader\n",
    "import sklearn"
   ]
  },
  {
   "cell_type": "code",
   "execution_count": 2,
   "id": "2e2224cf",
   "metadata": {},
   "outputs": [],
   "source": [
    "# Read the German text file\n",
    "with open(\"german.txt\", \"r\") as file:\n",
    "    german_words = file.read().splitlines()"
   ]
  },
  {
   "cell_type": "code",
   "execution_count": 3,
   "id": "b94cd20a",
   "metadata": {},
   "outputs": [],
   "source": [
    "# Read the English text file\n",
    "with open(\"english.txt\", \"r\") as file:\n",
    "    english_words = file.read().splitlines()"
   ]
  },
  {
   "cell_type": "code",
   "execution_count": 4,
   "id": "430f6fc4",
   "metadata": {},
   "outputs": [],
   "source": [
    "# Read the Spanish text file\n",
    "with open(\"Spanish.txt\", \"r\") as file:\n",
    "    spanish_words = file.read().splitlines()"
   ]
  },
  {
   "cell_type": "code",
   "execution_count": 5,
   "id": "2cef9d91",
   "metadata": {},
   "outputs": [],
   "source": [
    "english_words = [word.lower() for word in english_words if len(word) == 5]\n",
    "german_words = [word.lower() for word in german_words if len(word) == 5]\n",
    "spanish_words = [word.lower() for word in spanish_words if len(word) == 5]"
   ]
  },
  {
   "cell_type": "code",
   "execution_count": 6,
   "id": "4f7ac1d9",
   "metadata": {},
   "outputs": [],
   "source": [
    "german_tens = [torch.tensor([ord(char) for char in word]) for word in german_words]\n",
    "english_tens = [torch.tensor([ord(char) for char in word]) for word in english_words]\n",
    "spanish_tens = [torch.tensor([ord(char) for char in word]) for word in spanish_words]"
   ]
  },
  {
   "cell_type": "code",
   "execution_count": 7,
   "id": "781a07f1",
   "metadata": {},
   "outputs": [],
   "source": [
    "from sklearn.model_selection import train_test_split\n",
    "all_data = german_tens + english_tens + spanish_tens\n",
    "all_data = torch.stack(all_data)\n",
    "all_labels = [0] * len(german_words) + [1] * len(english_words) + [2] * len(spanish_words)\n",
    "# Split into training and testing datasets\n",
    "train_data, test_data, train_labels, test_labels = train_test_split(\n",
    "    all_data, all_labels, test_size=0.2, random_state=42)\n"
   ]
  },
  {
   "cell_type": "code",
   "execution_count": 8,
   "id": "60e67bad",
   "metadata": {
    "scrolled": true
   },
   "outputs": [
    {
     "name": "stdout",
     "output_type": "stream",
     "text": [
      "KNN Accuracy: 0.6561839943675194\n",
      "SVM Accuracy: 0.6496127669561136\n",
      "MLP Accuracy: 0.6467965266369397\n"
     ]
    }
   ],
   "source": [
    "from sklearn.neighbors import KNeighborsClassifier\n",
    "from sklearn import svm\n",
    "from sklearn.neural_network import MLPClassifier\n",
    "\n",
    "knn_model = KNeighborsClassifier()\n",
    "svm_model = svm.SVC()\n",
    "mlp_nn = MLPClassifier()\n",
    "\n",
    "knn_model.fit(train_data, train_labels)\n",
    "svm_model.fit(train_data, train_labels)\n",
    "mlp_nn.fit(train_data, train_labels)\n",
    "\n",
    "knn_accuracy = knn_model.score(test_data, test_labels)\n",
    "svm_accuracy = svm_model.score(test_data, test_labels)\n",
    "mlp_accuracy = mlp_nn.score(test_data, test_labels)\n",
    "\n",
    "print(\"KNN Accuracy:\", knn_accuracy)\n",
    "print(\"SVM Accuracy:\", svm_accuracy)\n",
    "print(\"MLP Accuracy:\", mlp_accuracy)"
   ]
  },
  {
   "cell_type": "code",
   "execution_count": 10,
   "id": "81024cbf",
   "metadata": {},
   "outputs": [
    {
     "data": {
      "image/png": "[encoded data removed]",
      "text/plain": [
       "<Figure size 640x480 with 1 Axes>"
      ]
     },
     "metadata": {},
     "output_type": "display_data"
    }
   ],
   "source": [
    "# Graphing the results\n",
    "import numpy as np\n",
    "import matplotlib.pyplot as plt\n",
    "\n",
    "labels = (\"KNN\", \"SVM\", \"MLP\")\n",
    "accuracies = [knn_accuracy, svm_accuracy, mlp_accuracy]\n",
    "\n",
    "plt.title(\"Model Accuracy\")\n",
    "plt.xlabel(\"Accuracy\")\n",
    "plt.barh(labels, accuracies, align=\"center\", alpha=0.5)\n",
    "plt.show()"
   ]
  },
  {
   "cell_type": "code",
   "execution_count": null,
   "id": "aea337c2",
   "metadata": {},
   "outputs": [],
   "source": []
  }
 ],
 "metadata": {
  "kernelspec": {
   "display_name": "Python 3 (ipykernel)",
   "language": "python",
   "name": "python3"
  },
  "language_info": {
   "codemirror_mode": {
    "name": "ipython",
    "version": 3
   },
   "file_extension": ".py",
   "mimetype": "text/x-python",
   "name": "python",
   "nbconvert_exporter": "python",
   "pygments_lexer": "ipython3",
   "version": "3.9.6"
  }
 },
 "nbformat": 4,
 "nbformat_minor": 5
}
